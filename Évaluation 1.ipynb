{
 "cells": [
  {
   "cell_type": "markdown",
   "metadata": {},
   "source": [
    "# Évaluation n°1 : python"
   ]
  },
  {
   "cell_type": "markdown",
   "metadata": {},
   "source": [
    "## Question 1"
   ]
  },
  {
   "cell_type": "markdown",
   "metadata": {},
   "source": [
    "Écrire une instruction pour faire afficher la chaîne de caractères `Hello world !`."
   ]
  },
  {
   "cell_type": "code",
   "execution_count": null,
   "metadata": {},
   "outputs": [],
   "source": []
  },
  {
   "cell_type": "markdown",
   "metadata": {},
   "source": [
    "## Question 1 bis"
   ]
  },
  {
   "cell_type": "markdown",
   "metadata": {},
   "source": [
    "Compléter le programme suivant avec une instruction utilisant les trois variables `a`, `b` et `c` et affichant après exécution la chaîne de caractères suivante :\n",
    "```\n",
    "5 × 7 = 35\n",
    "```"
   ]
  },
  {
   "cell_type": "code",
   "execution_count": null,
   "metadata": {},
   "outputs": [],
   "source": [
    "a = 5\n",
    "b = 7\n",
    "c = a * b\n",
    "# Saisir l'instruction ici"
   ]
  },
  {
   "cell_type": "markdown",
   "metadata": {},
   "source": [
    "## Question 2"
   ]
  },
  {
   "cell_type": "markdown",
   "metadata": {},
   "source": [
    "On considère les deux programmes suivants :"
   ]
  },
  {
   "cell_type": "code",
   "execution_count": null,
   "metadata": {},
   "outputs": [],
   "source": [
    "a = input(\"Saisir un nombre\")\n",
    "b = input(\"Saisir un nombre\")\n",
    "print(int(a + b))"
   ]
  },
  {
   "cell_type": "code",
   "execution_count": null,
   "metadata": {},
   "outputs": [],
   "source": [
    "a = int(input(\"Saisir un nombre\"))\n",
    "b = int(input(\"Saisir un nombre\"))\n",
    "print(a + b)"
   ]
  },
  {
   "cell_type": "markdown",
   "metadata": {},
   "source": [
    "Expliquer pourquoi ces deux algorithmes n'affichent pas la même chose.  \n",
    "*(conseil : tester les programmes plusieurs fois)*"
   ]
  },
  {
   "cell_type": "raw",
   "metadata": {},
   "source": []
  },
  {
   "cell_type": "markdown",
   "metadata": {},
   "source": [
    "## Question 3"
   ]
  },
  {
   "cell_type": "markdown",
   "metadata": {},
   "source": [
    "L'algorithme suivant renvoie un erreur. Le corriger."
   ]
  },
  {
   "cell_type": "code",
   "execution_count": null,
   "metadata": {},
   "outputs": [],
   "source": [
    "if 3 == 2 + 1\n",
    "    print(\"Tu as trouvé !\")"
   ]
  },
  {
   "cell_type": "markdown",
   "metadata": {},
   "source": [
    "## Question 4"
   ]
  },
  {
   "cell_type": "markdown",
   "metadata": {},
   "source": [
    "Voici un algorithme écrit en langage naturel :\n",
    "```\n",
    "note ← 18\n",
    "Si note < 10:\n",
    "    Afficher \"Il faut davantage réviser\"\n",
    "Sinon si note < 15:\n",
    "    Afficher \"C'est encourageant\"\n",
    "Sinon:\n",
    "    Afficher \"Bravo !\"\n",
    "Fin Si\n",
    "```\n",
    "Le coder en python."
   ]
  },
  {
   "cell_type": "code",
   "execution_count": null,
   "metadata": {},
   "outputs": [],
   "source": []
  },
  {
   "cell_type": "markdown",
   "metadata": {},
   "source": [
    "## Question 5"
   ]
  },
  {
   "cell_type": "markdown",
   "metadata": {},
   "source": [
    "Ce nouvel algorithme renvoie une erreur. Le corriger."
   ]
  },
  {
   "cell_type": "code",
   "execution_count": null,
   "metadata": {},
   "outputs": [],
   "source": [
    "mot = str(input(\"Saisir un mot\")\n",
    "entier = int(input(\"Saisir un nombre\"))\n",
    "condition = True"
   ]
  },
  {
   "cell_type": "markdown",
   "metadata": {},
   "source": [
    "## Fin de l'évaluation"
   ]
  },
  {
   "cell_type": "markdown",
   "metadata": {},
   "source": [
    "Pour transmettre votre travail au professeur, suivre les instructions suivantes :\n",
    "* Sauvegarder le document (File → Save and Checkpoint)\n",
    "* Télécharger le document et l'enregistrer dans votre espace personnel (File → Download as → Notebook (.ipynb))\n",
    "* Renommer le document \"Evaluation SNT - NOM Prénom\"\n",
    "* Le déposer dans l'application \"Casier\" de l'[ENT](https://enthdf.fr/auth/login)"
   ]
  }
 ],
 "metadata": {
  "kernelspec": {
   "display_name": "Python 3",
   "language": "python",
   "name": "python3"
  },
  "language_info": {
   "codemirror_mode": {
    "name": "ipython",
    "version": 3
   },
   "file_extension": ".py",
   "mimetype": "text/x-python",
   "name": "python",
   "nbconvert_exporter": "python",
   "pygments_lexer": "ipython3",
   "version": "3.7.3"
  }
 },
 "nbformat": 4,
 "nbformat_minor": 2
}
