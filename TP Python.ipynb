{
 "cells": [
  {
   "cell_type": "markdown",
   "metadata": {},
   "source": [
    "# TP info : découverte de Python 3"
   ]
  },
  {
   "cell_type": "markdown",
   "metadata": {},
   "source": [
    "**Consigne de travail** : avant chaque exécution d'instruction, vous devez deviner ce que python répondra. Pour ce faire, ajouter une cellule avant la console (outil \"+\" dans la barre d'outils, puis sélectionner \"Texte brut\" dans la liste déroulante de la barre d'outils).  \n",
    "Dans le cas où il n'y a pas concordance après exécution, proposer une explication dans une nouvelle cellule après la console."
   ]
  },
  {
   "cell_type": "markdown",
   "metadata": {},
   "source": [
    "## Partie A : des instructions uniques"
   ]
  },
  {
   "cell_type": "markdown",
   "metadata": {},
   "source": [
    "### 1. Votre première commande Python !"
   ]
  },
  {
   "cell_type": "markdown",
   "metadata": {},
   "source": [
    "Démarrons avec quelque chose de vraiment simple. Par exemple, faisons un peu de math : placer le curseur après l'instruction 2 + 3 et appuyez simultanément sur les touches Ctrl et Entrée."
   ]
  },
  {
   "cell_type": "code",
   "execution_count": null,
   "metadata": {},
   "outputs": [],
   "source": [
    "2 + 3"
   ]
  },
  {
   "cell_type": "markdown",
   "metadata": {},
   "source": [
    "Pas mal ! Vous voyez comment la réponse est sortie ? Python sait faire des maths ! Vous pouvez essayer d'autres commandes comme :"
   ]
  },
  {
   "cell_type": "code",
   "execution_count": null,
   "metadata": {},
   "outputs": [],
   "source": [
    "41 * 2"
   ]
  },
  {
   "cell_type": "code",
   "execution_count": null,
   "metadata": {},
   "outputs": [],
   "source": [
    "41 - 2"
   ]
  },
  {
   "cell_type": "code",
   "execution_count": null,
   "metadata": {},
   "outputs": [],
   "source": [
    "41 / 2"
   ]
  },
  {
   "cell_type": "code",
   "execution_count": null,
   "metadata": {},
   "outputs": [],
   "source": [
    "41 // 2"
   ]
  },
  {
   "cell_type": "code",
   "execution_count": null,
   "metadata": {},
   "outputs": [],
   "source": [
    "41 % 2"
   ]
  },
  {
   "cell_type": "markdown",
   "metadata": {},
   "source": [
    "Comme vous pouvez le constater, Python est une très bonne calculatrice. Comme vous vous en doutez, il est aussi capable de faire autre chose…"
   ]
  },
  {
   "cell_type": "markdown",
   "metadata": {},
   "source": [
    "### 2. Chaînes de caractères (Strings)"
   ]
  },
  {
   "cell_type": "markdown",
   "metadata": {},
   "source": [
    "Et si nous essayions avec votre prénom ? Tapez votre prénom entre guillemets, comme cela :"
   ]
  },
  {
   "cell_type": "code",
   "execution_count": null,
   "metadata": {},
   "outputs": [],
   "source": [
    "\"Roger\""
   ]
  },
  {
   "cell_type": "markdown",
   "metadata": {},
   "source": [
    "Vous venez de créer votre première chaîne de caractères ! C'est une suite de caractères qui peut être traitée par un ordinateur. Une chaîne de caractères doit toujours commencer et terminer par le même caractère. Cela peut être un guillemet simple (') ou un guillemet double (\"), ça n'a pas d'importance. Cela permet à Python de savoir que tout ce qui se trouve à l'intérieur de ces guillemets est une chaîne de caractères.  \n",
    "Il est possible de faire des opérations avec des chaînes de caractères comme ceci :"
   ]
  },
  {
   "cell_type": "code",
   "execution_count": null,
   "metadata": {},
   "outputs": [],
   "source": [
    "\"Salut \" + \"Roger\""
   ]
  },
  {
   "cell_type": "markdown",
   "metadata": {},
   "source": [
    "Vous pouvez aussi multiplier une chaîne de caractères par un nombre :"
   ]
  },
  {
   "cell_type": "code",
   "execution_count": null,
   "metadata": {},
   "outputs": [],
   "source": [
    "\"Roger\" * 3"
   ]
  },
  {
   "cell_type": "markdown",
   "metadata": {},
   "source": [
    "Si vous avez besoin de mettre une apostrophe dans votre chaîne de caractères, vous avez deux possibilités.\n",
    "Vous pouvez utiliser des guillemets doubles :"
   ]
  },
  {
   "cell_type": "code",
   "execution_count": null,
   "metadata": {},
   "outputs": [],
   "source": [
    "\"J'aime la mousse au chocolat\""
   ]
  },
  {
   "cell_type": "markdown",
   "metadata": {},
   "source": [
    "ou échapper l’apostrophe avec une barre oblique inversée (un backslash, \\) :"
   ]
  },
  {
   "cell_type": "code",
   "execution_count": null,
   "metadata": {},
   "outputs": [],
   "source": [
    "'J\\'aime la mousse au chocolat'"
   ]
  },
  {
   "cell_type": "markdown",
   "metadata": {},
   "source": [
    "**Exercice 2.1** Taper une instruction utilisant l'opérateur `*` permettant d'afficher :  \n",
    "`Monsieur Roger Monsieur Roger Monsieur Roger Monsieur Roger`"
   ]
  },
  {
   "cell_type": "code",
   "execution_count": null,
   "metadata": {},
   "outputs": [],
   "source": []
  },
  {
   "cell_type": "markdown",
   "metadata": {},
   "source": [
    "**Exercice 2.2** Taper une nouvelle commande permettant d’afficher la même chose en utilisant les opérateurs `+` et `*`."
   ]
  },
  {
   "cell_type": "code",
   "execution_count": null,
   "metadata": {},
   "outputs": [],
   "source": []
  },
  {
   "cell_type": "markdown",
   "metadata": {},
   "source": [
    "*Appeler le professeur pour vérification.*"
   ]
  },
  {
   "cell_type": "markdown",
   "metadata": {},
   "source": [
    "### 3. Variables"
   ]
  },
  {
   "cell_type": "markdown",
   "metadata": {},
   "source": [
    "Il existe un concept super important en programmation : les variables. Une variable, c'est juste un nom pour quelque chose que l'on aimerait utiliser plus tard. Les programmeurs utilisent des variables pour stocker des données, rendre leur code plus lisible, et pour ne pas avoir à se rappeler de ce que sont les choses.  \n",
    "Disons que nous aimerions créer une variable appelée `name` :"
   ]
  },
  {
   "cell_type": "code",
   "execution_count": null,
   "metadata": {},
   "outputs": [],
   "source": [
    "name = \"Roger\""
   ]
  },
  {
   "cell_type": "markdown",
   "metadata": {},
   "source": [
    "Vous voyez ? C'est tout bête ! C'est simplement : `name vaut Roger`.  \n",
    "Vous avez peut-être remarqué que contrairement à tout à l'heure, le programme ne renvoie rien. Du coup, comment faire pour vérifier que la variable existe vraiment ? Tapez simplement `name` et exécuter avec Ctrl + Entrée :"
   ]
  },
  {
   "cell_type": "code",
   "execution_count": null,
   "metadata": {},
   "outputs": [],
   "source": [
    "name"
   ]
  },
  {
   "cell_type": "markdown",
   "metadata": {},
   "source": [
    "Youpi ! Votre première variable :) ! Vous pouvez toujours changer ce à quoi elle fait référence :"
   ]
  },
  {
   "cell_type": "code",
   "execution_count": null,
   "metadata": {},
   "outputs": [],
   "source": [
    "name = \"Brigitte\"\n",
    "name"
   ]
  },
  {
   "cell_type": "markdown",
   "metadata": {},
   "source": [
    "Génial, non ? Et bien sûr, les variables peuvent être n'importe quoi, y compris des nombres ! Essayez ça :"
   ]
  },
  {
   "cell_type": "code",
   "execution_count": null,
   "metadata": {},
   "outputs": [],
   "source": [
    "a = 4\n",
    "b = 6\n",
    "a * b"
   ]
  },
  {
   "cell_type": "markdown",
   "metadata": {},
   "source": [
    "Mais que se passe-t-il si nous utilisons le mauvais nom ? Essayez de deviner ! C'est parti !"
   ]
  },
  {
   "cell_type": "code",
   "execution_count": null,
   "metadata": {},
   "outputs": [],
   "source": [
    "city = \"Tokyo\"\n",
    "ctiy"
   ]
  },
  {
   "cell_type": "markdown",
   "metadata": {},
   "source": [
    "Une erreur ! Comme vous pouvez le voir, Python a différents types d'erreurs, et celle-ci est une `NameError`. Python vous donne cette erreur quand vous essayez d'utiliser une variable qui n'a pas encore été définie. Si vous rencontrez cette erreur par la suite, vérifiez dans votre code que vous n'avez pas fait une faute de frappe dans une variable.  \n",
    "Jouez un peu avec les variables et essayez de voir ce que vous pouvez faire !"
   ]
  },
  {
   "cell_type": "markdown",
   "metadata": {},
   "source": [
    "**Exercice 3.1** Après les instructions suivantes, et en utilisant que les variables `a`, `b` et `c` et les opérateurs `+`, `−`, `*` et `/`, taper une instruction retournant 8.  \n",
    "Puis une autre retournant 6, puis 18, puis 15, puis 1."
   ]
  },
  {
   "cell_type": "code",
   "execution_count": null,
   "metadata": {},
   "outputs": [],
   "source": [
    "a = 3\n",
    "b = 10\n",
    "c = 5\n",
    "# Écrire ici à la place de ce commentaire"
   ]
  },
  {
   "cell_type": "markdown",
   "metadata": {},
   "source": [
    "*Appeler le professeur pour vérification*"
   ]
  },
  {
   "cell_type": "markdown",
   "metadata": {},
   "source": [
    "### 4. La fonction `print`"
   ]
  },
  {
   "cell_type": "markdown",
   "metadata": {},
   "source": [
    "Essayer ça :"
   ]
  },
  {
   "cell_type": "code",
   "execution_count": null,
   "metadata": {},
   "outputs": [],
   "source": [
    "name = 'Maria'\n",
    "print(name)"
   ]
  },
  {
   "cell_type": "markdown",
   "metadata": {},
   "source": [
    "Si l'on avait tapé `name`, l'interpréteur Python aurait répondu comme précédemment avec la représentation de la chaîne de caractères associée à la variable `name`, c'est à dire les lettres M-a-r-i-a, entourées par des guillemets simples.  \n",
    "Quand vous dites `print(name)`, Python va \"imprimer\" le contenu de la variable sur l'écran, sans les guillemets, ce qui est plus sympa.  \n",
    "Comme nous le verrons plus tard, `print()` est aussi utile lorsque l'on veut afficher des choses depuis l'intérieur de fonctions ou des choses sur plusieurs lignes."
   ]
  },
  {
   "cell_type": "markdown",
   "metadata": {},
   "source": [
    "### 5. Comparer des choses"
   ]
  },
  {
   "cell_type": "markdown",
   "metadata": {},
   "source": [
    "Comparer des choses est très important en programmation. Quelle serait la chose la plus facile à comparer ? Les nombres, bien sûr ! Voyons voir comment ça marche :"
   ]
  },
  {
   "cell_type": "code",
   "execution_count": null,
   "metadata": {},
   "outputs": [],
   "source": [
    "5 > 2"
   ]
  },
  {
   "cell_type": "code",
   "execution_count": null,
   "metadata": {},
   "outputs": [],
   "source": [
    "3 < 1"
   ]
  },
  {
   "cell_type": "code",
   "execution_count": null,
   "metadata": {},
   "outputs": [],
   "source": [
    "5 > 2 * 2"
   ]
  },
  {
   "cell_type": "code",
   "execution_count": null,
   "metadata": {},
   "outputs": [],
   "source": [
    "1 == 1"
   ]
  },
  {
   "cell_type": "code",
   "execution_count": null,
   "metadata": {},
   "outputs": [],
   "source": [
    "5 != 2"
   ]
  },
  {
   "cell_type": "markdown",
   "metadata": {},
   "source": [
    "Nous avons donné à Python des nombres à comparer. Comme vous pouvez le voir, Python peut comparer des nombres, mais aussi des résultats de méthodes. Pas mal, non ?  \n",
    "Vous vous demandez probablement pourquoi nous avons mis deux signes `==` côte à côte pour savoir si deux nombres étaient égaux ? On utilise déjà `= `pour assigner des valeurs aux variables. Du coup, il faut toujours, oui **toujours**, mettre deux `==` si vous voulez savoir si deux choses sont égales. Nous pouvons aussi dire que certaines choses ne sont pas égales à d'autres. Pour cela, nous utilisons le symbole `!=`, comme illustré dans l'exemple ci-dessus.\n",
    "\n",
    "Donnons encore un peu de boulot à Python :"
   ]
  },
  {
   "cell_type": "code",
   "execution_count": null,
   "metadata": {},
   "outputs": [],
   "source": [
    "6 >= 12 / 2"
   ]
  },
  {
   "cell_type": "code",
   "execution_count": null,
   "metadata": {},
   "outputs": [],
   "source": [
    "3 <= 2"
   ]
  },
  {
   "cell_type": "markdown",
   "metadata": {},
   "source": [
    "`>` et `<` sont faciles, mais qu'est ce que `>=` et `<=` veulent dire ? Ils se lisent comment ça :\n",
    "* `x > y` veut dire : `x` est strictement supérieur à `y` \n",
    "* `x < y` signifie : `x` est strictement inférieur à `y` \n",
    "* `x <= y` signifie : `x` est inférieur ou égal à `y` \n",
    "* `x >= y` veut dire : `x` est supérieur ou égal à `y` \n",
    "\n",
    "Super ! Un dernier ? Essayez ça :"
   ]
  },
  {
   "cell_type": "code",
   "execution_count": null,
   "metadata": {},
   "outputs": [],
   "source": [
    "6 > 2 and 2 < 3"
   ]
  },
  {
   "cell_type": "code",
   "execution_count": null,
   "metadata": {},
   "outputs": [],
   "source": [
    "3 > 2 and 2 < 1"
   ]
  },
  {
   "cell_type": "code",
   "execution_count": null,
   "metadata": {},
   "outputs": [],
   "source": [
    "3 > 2 or 2 < 1"
   ]
  },
  {
   "cell_type": "markdown",
   "metadata": {},
   "source": [
    "Vous pouvez donner à Python autant de nombres à comparer que vous le souhaitez et il vous donnera une réponse. Plutôt malin, non ?\n",
    "* `and` : si vous utilisez l'opérateur `and` (et), les deux comparaisons doivent être `True` (vraies) pour que la commande toute entière soit `True` \n",
    "* `or` : si vous utilisez l'opérateur `or` (ou), il suffit qu'une des deux comparaisons soit `True` (vraie) pour que la commande toute entière soit `True` "
   ]
  },
  {
   "cell_type": "markdown",
   "metadata": {},
   "source": [
    "## Partie B : des instructions multiples"
   ]
  },
  {
   "cell_type": "markdown",
   "metadata": {},
   "source": [
    "Pour l'instant, nous avons écrit tout notre code Python instruction après instruction, ce qui nous limite à une ligne à la fois. Les programmes normaux sont sauvegardés dans des fichiers et sont exécutés par l'interpréteur ou le compilateur de notre langage de programmation.  Jusque-là, c'était ligne par ligne dans la console ; on va maintenant traiter un ensemble d'instructions dans l'ordre choisi.\n",
    "\n",
    "Auparavant, Vous avez probablement constaté que votre code se pare de multiples couleurs : ça fait partie des choses qui rendent la programmation dans un éditeur de texte bien plus agréable. C'est ce qu'on appelle « la coloration syntaxique ». C'est une fonctionnalité très utile lorsque l'on programme. La couleur des choses va vous permettre de détecter des problèmes : une chaîne de caractères non fermée, une faute dans un mot (ce sera par exemple le cas dans la fonction `def` que vous verrez un peu plus tard). C'est ce genre de fonctionnalités qui font que vous aimerez rapidement programmer avec un éditeur de code :)  \n",
    "Vous avez maintenant pas mal de connaissances en Python : n'hésitez pas à écrire du code avec ce que vous avez appris aujourd'hui !\n",
    "\n",
    "Passons à un autre outil essentiel de la programmation :"
   ]
  },
  {
   "cell_type": "markdown",
   "metadata": {},
   "source": [
    "#### If... elif... else "
   ]
  },
  {
   "cell_type": "markdown",
   "metadata": {},
   "source": [
    "Quand on code, il y a plein choses qui ne doivent être exécutées que dans certaines conditions. Pour cela, Python possède ce qu'on appelle l'instruction `if` (si). Par exemple :"
   ]
  },
  {
   "cell_type": "code",
   "execution_count": null,
   "metadata": {},
   "outputs": [],
   "source": [
    "if 3 > 2:"
   ]
  },
  {
   "cell_type": "markdown",
   "metadata": {},
   "source": [
    "Si nous exécutons, nous obtiendrons l'erreur suivante :  \n",
    "`SyntaxError: unexpected EOF while parsing`\n",
    "\n",
    "Python s'attend à ce que nous lui donnions des instructions sur ce qu'il faut exécuter lorsque la condition `3 > 2` est vraie (ou plutôt, `True`). Essayons de lui faire afficher `\"Ça marche !\"`."
   ]
  },
  {
   "cell_type": "code",
   "execution_count": null,
   "metadata": {},
   "outputs": [],
   "source": [
    "if 3 > 2:\n",
    "    print('Ça marche !')"
   ]
  },
  {
   "cell_type": "markdown",
   "metadata": {},
   "source": [
    "Avez-vous remarqué que nous avions décalé la ligne suivante d’une tabulation ? C'est ce que l'on appelle indenter. Nous avons besoin d'indenter pour que Python sache quel code exécuter si le résultat est vrai."
   ]
  },
  {
   "cell_type": "markdown",
   "metadata": {},
   "source": [
    "#### Et que se passe-t-il si une condition n’est pas vraie ?"
   ]
  },
  {
   "cell_type": "markdown",
   "metadata": {},
   "source": [
    "Dans les exemples précédents, le code était exécuté quand la condition était vraie. Cependant, Python possède aussi des instructions `elif `(sinon si) et `else` (sinon) :"
   ]
  },
  {
   "cell_type": "code",
   "execution_count": null,
   "metadata": {},
   "outputs": [],
   "source": [
    "if 5 > 2:\n",
    "    print('5 est effectivement plus grand que 2')\n",
    "else:\n",
    "    print(\"5 n'est pas plus grand que 2\")"
   ]
  },
  {
   "cell_type": "markdown",
   "metadata": {},
   "source": [
    "**Exercice B.1** Modifier la première ligne du code suivant pour que le texte `5 n'est pas plus grand que 2` s'affiche."
   ]
  },
  {
   "cell_type": "code",
   "execution_count": null,
   "metadata": {},
   "outputs": [],
   "source": [
    "if 5 > 2:\n",
    "    print('5 est effectivement plus grand que 2')\n",
    "else:\n",
    "    print(\"5 n'est pas plus grand que 2\")"
   ]
  },
  {
   "cell_type": "markdown",
   "metadata": {},
   "source": [
    "Facile, non ? Voyons comment `elif` fonctionne :"
   ]
  },
  {
   "cell_type": "code",
   "execution_count": null,
   "metadata": {},
   "outputs": [],
   "source": [
    "name = 'Julia'\n",
    "if name == 'Robert':\n",
    "    print('Salut Robert !')\n",
    "elif name == 'Julia':\n",
    "    print('Salut Julia !')\n",
    "else:\n",
    "    print('Salut anonyme !')"
   ]
  },
  {
   "cell_type": "markdown",
   "metadata": {},
   "source": [
    "Que s'est-il passé ? `elif` vous permet d'ajouter d'autres conditions à exécuter si les précédentes échouent.  \n",
    "Vous pouvez ajouter autant de elif que vous le souhaitez après le premier `if`."
   ]
  },
  {
   "cell_type": "markdown",
   "metadata": {},
   "source": [
    "**Exercice B.2** Modifier la première ligne du code pour que le texte `Salut Julia !` s'affiche. "
   ]
  },
  {
   "cell_type": "code",
   "execution_count": null,
   "metadata": {},
   "outputs": [],
   "source": [
    "name = 'Julia'\n",
    "if name == 'Robert':\n",
    "    print('Salut Robert !')\n",
    "elif name == 'Julia':\n",
    "    print('Salut Julia !')\n",
    "else:\n",
    "    print('Salut anonyme !')"
   ]
  },
  {
   "cell_type": "markdown",
   "metadata": {},
   "source": [
    "**Exercuce B.3** Modifier la première ligne du code pour que le texte `Salut anonyme !` s'affiche."
   ]
  },
  {
   "cell_type": "code",
   "execution_count": null,
   "metadata": {},
   "outputs": [],
   "source": [
    "name = 'Julia'\n",
    "if name == 'Robert':\n",
    "    print('Salut Robert !')\n",
    "elif name == 'Julia':\n",
    "    print('Salut Julia !')\n",
    "else:\n",
    "    print('Salut anonyme !')"
   ]
  },
  {
   "cell_type": "markdown",
   "metadata": {},
   "source": [
    "Voici un autre exemple :"
   ]
  },
  {
   "cell_type": "code",
   "execution_count": null,
   "metadata": {},
   "outputs": [],
   "source": [
    "volume = 57\n",
    "if volume < 20:\n",
    "    print(\"C'est plutôt calme.\")\n",
    "elif 20 <= volume < 40:\n",
    "    print(\"Une jolie musique de fond.\")\n",
    "elif 40 <= volume < 60:\n",
    "    print(\"Parfait, je peux entendre tous les détails du morceau.\")\n",
    "elif 60 <= volume < 80:\n",
    "    print(\"Parfait pour faire la fête !\")\n",
    "elif 80 <= volume < 100:\n",
    "    print(\"Un peu trop fort !\")\n",
    "else:\n",
    "    print(\"Au secours ! Mes oreilles ! :(\")"
   ]
  },
  {
   "cell_type": "markdown",
   "metadata": {},
   "source": [
    "En remplaçant la première ligne par  \n",
    "`volume = int(input('Saisissez un entier positif : '))`\n",
    "Python attend alors qu’un nombre soit saisi ; c’est le rôle de la fonction `input`. La fonction `int` permet elle de convertir la saisie (de type chaîne de caractère) en une variable de type nombre entier (integer, en anglais)."
   ]
  },
  {
   "cell_type": "code",
   "execution_count": null,
   "metadata": {},
   "outputs": [],
   "source": [
    "volume = int(input('Saisissez un entier positif : '))\n",
    "if volume < 20:\n",
    "    print(\"C'est plutôt calme.\")\n",
    "elif 20 <= volume < 40:\n",
    "    print(\"Une jolie musique de fond.\")\n",
    "elif 40 <= volume < 60:\n",
    "    print(\"Parfait, je peux entendre tous les détails du morceau.\")\n",
    "elif 60 <= volume < 80:\n",
    "    print(\"Parfait pour faire la fête !\")\n",
    "elif 80 <= volume < 100:\n",
    "    print(\"Un peu trop fort !\")\n",
    "else:\n",
    "    print(\"Au secours ! Mes oreilles ! :(\")"
   ]
  },
  {
   "cell_type": "markdown",
   "metadata": {},
   "source": [
    "**Exercice B.3** Écrire un programme demandant l’âge de l’utilisateur et affichant si celui-ci est mineur ou majeur."
   ]
  },
  {
   "cell_type": "code",
   "execution_count": null,
   "metadata": {},
   "outputs": [],
   "source": []
  },
  {
   "cell_type": "markdown",
   "metadata": {},
   "source": [
    "*Appeler le professeur pour vérification*"
   ]
  }
 ],
 "metadata": {
  "kernelspec": {
   "display_name": "Python 3",
   "language": "python",
   "name": "python3"
  },
  "language_info": {
   "codemirror_mode": {
    "name": "ipython",
    "version": 3
   },
   "file_extension": ".py",
   "mimetype": "text/x-python",
   "name": "python",
   "nbconvert_exporter": "python",
   "pygments_lexer": "ipython3",
   "version": "3.7.3"
  }
 },
 "nbformat": 4,
 "nbformat_minor": 2
}
